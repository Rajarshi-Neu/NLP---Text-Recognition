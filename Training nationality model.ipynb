{
 "cells": [
  {
   "cell_type": "markdown",
   "metadata": {},
   "source": [
    "## <center> Predicting Nationality given text</center>"
   ]
  },
  {
   "cell_type": "code",
   "execution_count": 31,
   "metadata": {
    "collapsed": true
   },
   "outputs": [],
   "source": [
    "import pandas as pd\n",
    "import numpy as np\n",
    "from collections import Counter\n",
    "from matplotlib_venn import venn2\n",
    "import re\n",
    "import nltk\n",
    "import keras\n",
    "from keras.models import Model, load_model\n",
    "from keras.layers import Dense, Input, Dropout, LSTM, Activation, Bidirectional\n",
    "from keras.layers.embeddings import Embedding\n",
    "from sklearn.metrics import confusion_matrix, classification_report, roc_curve\n",
    "from sklearn.model_selection import StratifiedKFold\n",
    "import matplotlib.pyplot as plt"
   ]
  },
  {
   "cell_type": "markdown",
   "metadata": {},
   "source": [
    "## Reading Data\n",
    "\n",
    "I read 10 datasets from disk"
   ]
  },
  {
   "cell_type": "code",
   "execution_count": 2,
   "metadata": {},
   "outputs": [
    {
     "name": "stdout",
     "output_type": "stream",
     "text": [
      "Total number of records read :  472120\n"
     ]
    },
    {
     "data": {
      "text/html": [
       "<div>\n",
       "<style>\n",
       "    .dataframe thead tr:only-child th {\n",
       "        text-align: right;\n",
       "    }\n",
       "\n",
       "    .dataframe thead th {\n",
       "        text-align: left;\n",
       "    }\n",
       "\n",
       "    .dataframe tbody tr th {\n",
       "        vertical-align: top;\n",
       "    }\n",
       "</style>\n",
       "<table border=\"1\" class=\"dataframe\">\n",
       "  <thead>\n",
       "    <tr style=\"text-align: right;\">\n",
       "      <th></th>\n",
       "      <th>learnerId</th>\n",
       "      <th>nationality</th>\n",
       "      <th>grade</th>\n",
       "      <th>level</th>\n",
       "      <th>topic</th>\n",
       "      <th>text</th>\n",
       "    </tr>\n",
       "  </thead>\n",
       "  <tbody>\n",
       "    <tr>\n",
       "      <th>0</th>\n",
       "      <td>84805</td>\n",
       "      <td>mx</td>\n",
       "      <td>90</td>\n",
       "      <td>5</td>\n",
       "      <td>Summarizing a story</td>\n",
       "      <td>make is a live''s jeans an shit favorit...</td>\n",
       "    </tr>\n",
       "    <tr>\n",
       "      <th>1</th>\n",
       "      <td>139062</td>\n",
       "      <td>cn</td>\n",
       "      <td>90</td>\n",
       "      <td>6</td>\n",
       "      <td>Complaining about a meal</td>\n",
       "      <td>19th June 2012I went to a restaurant an...</td>\n",
       "    </tr>\n",
       "    <tr>\n",
       "      <th>2</th>\n",
       "      <td>162010</td>\n",
       "      <td>tw</td>\n",
       "      <td>83</td>\n",
       "      <td>6</td>\n",
       "      <td>Writing a movie plot</td>\n",
       "      <td>Although Isabella had married, but his ...</td>\n",
       "    </tr>\n",
       "    <tr>\n",
       "      <th>3</th>\n",
       "      <td>60036</td>\n",
       "      <td>ru</td>\n",
       "      <td>94</td>\n",
       "      <td>1</td>\n",
       "      <td>Taking inventory in the office</td>\n",
       "      <td>The code of conduct: - do not disclose ...</td>\n",
       "    </tr>\n",
       "    <tr>\n",
       "      <th>4</th>\n",
       "      <td>88813</td>\n",
       "      <td>mx</td>\n",
       "      <td>100</td>\n",
       "      <td>8</td>\n",
       "      <td>Describing a business trip</td>\n",
       "      <td>I have fantastic news. Finally I met wi...</td>\n",
       "    </tr>\n",
       "  </tbody>\n",
       "</table>\n",
       "</div>"
      ],
      "text/plain": [
       "   learnerId nationality  grade  level                           topic  \\\n",
       "0      84805          mx     90      5             Summarizing a story   \n",
       "1     139062          cn     90      6        Complaining about a meal   \n",
       "2     162010          tw     83      6            Writing a movie plot   \n",
       "3      60036          ru     94      1  Taking inventory in the office   \n",
       "4      88813          mx    100      8      Describing a business trip   \n",
       "\n",
       "                                                text  \n",
       "0         make is a live''s jeans an shit favorit...  \n",
       "1         19th June 2012I went to a restaurant an...  \n",
       "2         Although Isabella had married, but his ...  \n",
       "3         The code of conduct: - do not disclose ...  \n",
       "4         I have fantastic news. Finally I met wi...  "
      ]
     },
     "execution_count": 2,
     "metadata": {},
     "output_type": "execute_result"
    }
   ],
   "source": [
    "numberOfDatasets = 10\n",
    "def readData(numberOfDatasets, counter):\n",
    "    df = pd.DataFrame()\n",
    "    for i in range(counter, counter+numberOfDatasets):\n",
    "        tempDf = pd.read_csv(\"./Part\"+str(i+1)+\".csv\")\n",
    "        df = df.append(tempDf)\n",
    "    return df\n",
    "\n",
    "train = readData(numberOfDatasets,0)\n",
    "train['nationality'] = train['nationality'].astype('category')\n",
    "print (\"Total number of records read : \", len(train))\n",
    "train.head()"
   ]
  },
  {
   "cell_type": "code",
   "execution_count": 3,
   "metadata": {},
   "outputs": [
    {
     "name": "stdout",
     "output_type": "stream",
     "text": [
      "No. of records read :  94424\n"
     ]
    },
    {
     "data": {
      "text/html": [
       "<div>\n",
       "<style>\n",
       "    .dataframe thead tr:only-child th {\n",
       "        text-align: right;\n",
       "    }\n",
       "\n",
       "    .dataframe thead th {\n",
       "        text-align: left;\n",
       "    }\n",
       "\n",
       "    .dataframe tbody tr th {\n",
       "        vertical-align: top;\n",
       "    }\n",
       "</style>\n",
       "<table border=\"1\" class=\"dataframe\">\n",
       "  <thead>\n",
       "    <tr style=\"text-align: right;\">\n",
       "      <th></th>\n",
       "      <th>learnerId</th>\n",
       "      <th>nationality</th>\n",
       "      <th>grade</th>\n",
       "      <th>level</th>\n",
       "      <th>topic</th>\n",
       "      <th>text</th>\n",
       "    </tr>\n",
       "  </thead>\n",
       "  <tbody>\n",
       "    <tr>\n",
       "      <th>0</th>\n",
       "      <td>34458</td>\n",
       "      <td>br</td>\n",
       "      <td>90</td>\n",
       "      <td>7</td>\n",
       "      <td>Writing a job advertisement</td>\n",
       "      <td>Open possition for Finance Administrati...</td>\n",
       "    </tr>\n",
       "    <tr>\n",
       "      <th>1</th>\n",
       "      <td>136384</td>\n",
       "      <td>mx</td>\n",
       "      <td>79</td>\n",
       "      <td>4</td>\n",
       "      <td>Writing about what you like doing</td>\n",
       "      <td>Hello Dillo. how are you?thank you for ...</td>\n",
       "    </tr>\n",
       "    <tr>\n",
       "      <th>2</th>\n",
       "      <td>135078</td>\n",
       "      <td>it</td>\n",
       "      <td>95</td>\n",
       "      <td>3</td>\n",
       "      <td>Replying to a new penpal</td>\n",
       "      <td>Hi, my names NATASCIA. Im twenty-eight....</td>\n",
       "    </tr>\n",
       "    <tr>\n",
       "      <th>3</th>\n",
       "      <td>21417</td>\n",
       "      <td>ru</td>\n",
       "      <td>100</td>\n",
       "      <td>3</td>\n",
       "      <td>Describing a friend's weekend routine</td>\n",
       "      <td>On Saturday, he goes swimming at 11:30a...</td>\n",
       "    </tr>\n",
       "    <tr>\n",
       "      <th>4</th>\n",
       "      <td>170106</td>\n",
       "      <td>br</td>\n",
       "      <td>95</td>\n",
       "      <td>1</td>\n",
       "      <td>Writing labels for a clothing store</td>\n",
       "      <td>This black skirt is 15,00. These red an...</td>\n",
       "    </tr>\n",
       "  </tbody>\n",
       "</table>\n",
       "</div>"
      ],
      "text/plain": [
       "   learnerId nationality  grade  level                                  topic  \\\n",
       "0      34458          br     90      7            Writing a job advertisement   \n",
       "1     136384          mx     79      4      Writing about what you like doing   \n",
       "2     135078          it     95      3               Replying to a new penpal   \n",
       "3      21417          ru    100      3  Describing a friend's weekend routine   \n",
       "4     170106          br     95      1    Writing labels for a clothing store   \n",
       "\n",
       "                                                text  \n",
       "0         Open possition for Finance Administrati...  \n",
       "1         Hello Dillo. how are you?thank you for ...  \n",
       "2         Hi, my names NATASCIA. Im twenty-eight....  \n",
       "3         On Saturday, he goes swimming at 11:30a...  \n",
       "4         This black skirt is 15,00. These red an...  "
      ]
     },
     "execution_count": 3,
     "metadata": {},
     "output_type": "execute_result"
    }
   ],
   "source": [
    "test = readData(2, 10)\n",
    "test['nationality'] = test['nationality'].astype('category')\n",
    "print (\"No. of records read : \", len(test))\n",
    "test.head()"
   ]
  },
  {
   "cell_type": "markdown",
   "metadata": {},
   "source": [
    "## Pre-processing\n",
    "\n",
    "Doing pre-processing of text data:\n",
    "\n",
    "* lowercase of text\n",
    "* remove of all puncuation and keeping onl alphanumeric characters\n",
    "* tokenizing using nltk and re-merging for removal of bad spellings"
   ]
  },
  {
   "cell_type": "code",
   "execution_count": 4,
   "metadata": {
    "collapsed": true
   },
   "outputs": [],
   "source": [
    "train['text']=train['text'].apply(lambda x : \" \".join(nltk.tokenize.word_tokenize(re.sub(r'\\W+', \" \", x.lower()))))\n",
    "\n",
    "test['text']=test['text'].apply(lambda x : \" \".join(nltk.tokenize.word_tokenize(re.sub(r'\\W+', \" \", x.lower()))))"
   ]
  },
  {
   "cell_type": "markdown",
   "metadata": {},
   "source": [
    "## Building X_train, Y_train, X_test and Y_test"
   ]
  },
  {
   "cell_type": "code",
   "execution_count": 5,
   "metadata": {},
   "outputs": [
    {
     "data": {
      "text/plain": [
       "array(['make is a live s jeans an shit favorit make is the ralp laurens polo is somewhat expensive but i think worth the money mifavorit foot wear is the sport shoe is nike make i think are is berygood quality and comfortables',\n",
       "       '19th june 2012i went to a restaurant and i had a terrible meal the starter soup was bland the dessert was too sweet the horrible is red wine and coffee was disgusting bitter also the steak was overcooked and there was chilli powder with it it was very unhappy meal sharon',\n",
       "       'although isabella had married but his husband is very awful and violent so she want to divorce early they were talking very happy after that they are talking on the ship every night day after day john and isabella fall in love and they decide to have an elopement finally they were hold a wedding in other a country and had three children after three years the story have a happy ending',\n",
       "       'the code of conduct do not disclose confidential information keep your workspace neat and tidy do not disturb colleaues with loud music arrive to work on time abide by the dress code use the smoking area do not discriminate against other staff members',\n",
       "       'i have fantastic news finally i met with sally cassidy although our meeting was a little bit informal because we ate at steakhouse it was very productive we reviewed the past year and hear this she told me that gxc wants to increase purchases from us by 20 can you believe it after she gave the great news i have been thinking that our relationship is growing as is our business with this maybe we can growth this year as we had planned one more thing sally told me she wants to meet us again to talk about future projects and how we can help gxc to accomplish them'],\n",
       "      dtype=object)"
      ]
     },
     "execution_count": 5,
     "metadata": {},
     "output_type": "execute_result"
    }
   ],
   "source": [
    "# for k fold only\n",
    "train = train.head(45000)\n",
    "\n",
    "X_train, Y_train = train['text'].values, train['nationality'].values\n",
    "X_test, Y_test = test['text'].values, test['nationality'].values\n",
    "X_train[0:5]"
   ]
  },
  {
   "cell_type": "markdown",
   "metadata": {},
   "source": [
    "## Converting Y to one-hot"
   ]
  },
  {
   "cell_type": "code",
   "execution_count": 6,
   "metadata": {},
   "outputs": [
    {
     "data": {
      "text/html": [
       "<div>\n",
       "<style>\n",
       "    .dataframe thead tr:only-child th {\n",
       "        text-align: right;\n",
       "    }\n",
       "\n",
       "    .dataframe thead th {\n",
       "        text-align: left;\n",
       "    }\n",
       "\n",
       "    .dataframe tbody tr th {\n",
       "        vertical-align: top;\n",
       "    }\n",
       "</style>\n",
       "<table border=\"1\" class=\"dataframe\">\n",
       "  <thead>\n",
       "    <tr style=\"text-align: right;\">\n",
       "      <th></th>\n",
       "      <th>ad</th>\n",
       "      <th>ae</th>\n",
       "      <th>af</th>\n",
       "      <th>ai</th>\n",
       "      <th>al</th>\n",
       "      <th>am</th>\n",
       "      <th>ao</th>\n",
       "      <th>aq</th>\n",
       "      <th>ar</th>\n",
       "      <th>as</th>\n",
       "      <th>...</th>\n",
       "      <th>uy</th>\n",
       "      <th>uz</th>\n",
       "      <th>vc</th>\n",
       "      <th>ve</th>\n",
       "      <th>vg</th>\n",
       "      <th>vn</th>\n",
       "      <th>vu</th>\n",
       "      <th>ye</th>\n",
       "      <th>za</th>\n",
       "      <th>zw</th>\n",
       "    </tr>\n",
       "  </thead>\n",
       "  <tbody>\n",
       "    <tr>\n",
       "      <th>0</th>\n",
       "      <td>0</td>\n",
       "      <td>0</td>\n",
       "      <td>0</td>\n",
       "      <td>0</td>\n",
       "      <td>0</td>\n",
       "      <td>0</td>\n",
       "      <td>0</td>\n",
       "      <td>0</td>\n",
       "      <td>0</td>\n",
       "      <td>0</td>\n",
       "      <td>...</td>\n",
       "      <td>0</td>\n",
       "      <td>0</td>\n",
       "      <td>0</td>\n",
       "      <td>0</td>\n",
       "      <td>0</td>\n",
       "      <td>0</td>\n",
       "      <td>0</td>\n",
       "      <td>0</td>\n",
       "      <td>0</td>\n",
       "      <td>0</td>\n",
       "    </tr>\n",
       "    <tr>\n",
       "      <th>1</th>\n",
       "      <td>0</td>\n",
       "      <td>0</td>\n",
       "      <td>0</td>\n",
       "      <td>0</td>\n",
       "      <td>0</td>\n",
       "      <td>0</td>\n",
       "      <td>0</td>\n",
       "      <td>0</td>\n",
       "      <td>0</td>\n",
       "      <td>0</td>\n",
       "      <td>...</td>\n",
       "      <td>0</td>\n",
       "      <td>0</td>\n",
       "      <td>0</td>\n",
       "      <td>0</td>\n",
       "      <td>0</td>\n",
       "      <td>0</td>\n",
       "      <td>0</td>\n",
       "      <td>0</td>\n",
       "      <td>0</td>\n",
       "      <td>0</td>\n",
       "    </tr>\n",
       "    <tr>\n",
       "      <th>2</th>\n",
       "      <td>0</td>\n",
       "      <td>0</td>\n",
       "      <td>0</td>\n",
       "      <td>0</td>\n",
       "      <td>0</td>\n",
       "      <td>0</td>\n",
       "      <td>0</td>\n",
       "      <td>0</td>\n",
       "      <td>0</td>\n",
       "      <td>0</td>\n",
       "      <td>...</td>\n",
       "      <td>0</td>\n",
       "      <td>0</td>\n",
       "      <td>0</td>\n",
       "      <td>0</td>\n",
       "      <td>0</td>\n",
       "      <td>0</td>\n",
       "      <td>0</td>\n",
       "      <td>0</td>\n",
       "      <td>0</td>\n",
       "      <td>0</td>\n",
       "    </tr>\n",
       "    <tr>\n",
       "      <th>3</th>\n",
       "      <td>0</td>\n",
       "      <td>0</td>\n",
       "      <td>0</td>\n",
       "      <td>0</td>\n",
       "      <td>0</td>\n",
       "      <td>0</td>\n",
       "      <td>0</td>\n",
       "      <td>0</td>\n",
       "      <td>0</td>\n",
       "      <td>0</td>\n",
       "      <td>...</td>\n",
       "      <td>0</td>\n",
       "      <td>0</td>\n",
       "      <td>0</td>\n",
       "      <td>0</td>\n",
       "      <td>0</td>\n",
       "      <td>0</td>\n",
       "      <td>0</td>\n",
       "      <td>0</td>\n",
       "      <td>0</td>\n",
       "      <td>0</td>\n",
       "    </tr>\n",
       "    <tr>\n",
       "      <th>4</th>\n",
       "      <td>0</td>\n",
       "      <td>0</td>\n",
       "      <td>0</td>\n",
       "      <td>0</td>\n",
       "      <td>0</td>\n",
       "      <td>0</td>\n",
       "      <td>0</td>\n",
       "      <td>0</td>\n",
       "      <td>0</td>\n",
       "      <td>0</td>\n",
       "      <td>...</td>\n",
       "      <td>0</td>\n",
       "      <td>0</td>\n",
       "      <td>0</td>\n",
       "      <td>0</td>\n",
       "      <td>0</td>\n",
       "      <td>0</td>\n",
       "      <td>0</td>\n",
       "      <td>0</td>\n",
       "      <td>0</td>\n",
       "      <td>0</td>\n",
       "    </tr>\n",
       "  </tbody>\n",
       "</table>\n",
       "<p>5 rows × 191 columns</p>\n",
       "</div>"
      ],
      "text/plain": [
       "   ad  ae  af  ai  al  am  ao  aq  ar  as ...  uy  uz  vc  ve  vg  vn  vu  ye  \\\n",
       "0   0   0   0   0   0   0   0   0   0   0 ...   0   0   0   0   0   0   0   0   \n",
       "1   0   0   0   0   0   0   0   0   0   0 ...   0   0   0   0   0   0   0   0   \n",
       "2   0   0   0   0   0   0   0   0   0   0 ...   0   0   0   0   0   0   0   0   \n",
       "3   0   0   0   0   0   0   0   0   0   0 ...   0   0   0   0   0   0   0   0   \n",
       "4   0   0   0   0   0   0   0   0   0   0 ...   0   0   0   0   0   0   0   0   \n",
       "\n",
       "   za  zw  \n",
       "0   0   0  \n",
       "1   0   0  \n",
       "2   0   0  \n",
       "3   0   0  \n",
       "4   0   0  \n",
       "\n",
       "[5 rows x 191 columns]"
      ]
     },
     "execution_count": 6,
     "metadata": {},
     "output_type": "execute_result"
    }
   ],
   "source": [
    "Y_OneHot_Train = pd.get_dummies(Y_train)\n",
    "Y_OneHot_Test = pd.get_dummies(Y_test)\n",
    "classes = len(Y_OneHot_Train.columns.values)\n",
    "Y_OneHot_Train.head()"
   ]
  },
  {
   "cell_type": "code",
   "execution_count": 7,
   "metadata": {},
   "outputs": [
    {
     "data": {
      "text/plain": [
       "array([[0, 0, 0, ..., 0, 0, 0],\n",
       "       [0, 0, 0, ..., 0, 0, 0],\n",
       "       [0, 0, 0, ..., 0, 0, 0],\n",
       "       ...,\n",
       "       [0, 0, 0, ..., 0, 0, 0],\n",
       "       [0, 0, 0, ..., 0, 0, 0],\n",
       "       [0, 0, 0, ..., 0, 0, 0]], dtype=uint8)"
      ]
     },
     "execution_count": 7,
     "metadata": {},
     "output_type": "execute_result"
    }
   ],
   "source": [
    "Y_OneHot_Train = Y_OneHot_Train.values\n",
    "Y_OneHot_Test = Y_OneHot_Test.values\n",
    "Y_OneHot_Train"
   ]
  },
  {
   "cell_type": "markdown",
   "metadata": {},
   "source": [
    "## Reading GloVe "
   ]
  },
  {
   "cell_type": "code",
   "execution_count": 8,
   "metadata": {
    "collapsed": true
   },
   "outputs": [],
   "source": [
    "def readGlove(filename):   \n",
    "    with open(filename, 'r', encoding='utf-8') as f:\n",
    "        words = set()\n",
    "        word_to_vec_map = {}\n",
    "        for line in f:\n",
    "            line = line.strip().split()\n",
    "            curr_word = line[0]\n",
    "            words.add(curr_word)\n",
    "            word_to_vec_map[curr_word] = np.array(line[1:], dtype=np.float64)\n",
    "        \n",
    "        i = 1\n",
    "        words_to_index = {}\n",
    "        index_to_words = {}\n",
    "        for w in sorted(words):\n",
    "            words_to_index[w] = i\n",
    "            index_to_words[i] = w\n",
    "            i = i + 1\n",
    "    return words_to_index, index_to_words, word_to_vec_map, words\n",
    "\n",
    "gloveVecFile = \"./glove.6B.50d.txt\"\n",
    "words_to_index, index_to_words, word_to_vec_map, words = readGlove(gloveVecFile)"
   ]
  },
  {
   "cell_type": "code",
   "execution_count": 9,
   "metadata": {
    "collapsed": true
   },
   "outputs": [],
   "source": [
    "# Intersection of words in dataset with words in GloVe vector\n",
    "\n",
    "def getSetOfWords(text) :\n",
    "    \"\"\"\n",
    "    :param : text is an numpy array of strings\n",
    "    \"\"\"\n",
    "    setOfWordsInTrainingDataset = set()\n",
    "    for sentence in text:\n",
    "        for word in sentence.split():\n",
    "            setOfWordsInTrainingDataset.add(word)\n",
    "    return setOfWordsInTrainingDataset\n",
    "\n",
    "setOfWordsInTrainingDataset = getSetOfWords(X_train)\n"
   ]
  },
  {
   "cell_type": "code",
   "execution_count": 10,
   "metadata": {},
   "outputs": [
    {
     "data": {
      "image/png": "[encoded data removed]",
      "text/plain": [
       "<Figure size 504x504 with 1 Axes>"
      ]
     },
     "metadata": {},
     "output_type": "display_data"
    }
   ],
   "source": [
    "plt.figure(figsize=(7,7))\n",
    "venn2([words, setOfWordsInTrainingDataset],set_labels = ('GloVe vector', 'Dataset'))\n",
    "plt.show()\n",
    "# type(setOfWordsInTrainingDataset)"
   ]
  },
  {
   "cell_type": "code",
   "execution_count": 11,
   "metadata": {},
   "outputs": [
    {
     "name": "stdout",
     "output_type": "stream",
     "text": [
      "0.6558743395339526% words are not found in GloVe vector\n"
     ]
    }
   ],
   "source": [
    "print (str(150695/(150695+79067))+\"% words are not found in GloVe vector\")"
   ]
  },
  {
   "cell_type": "markdown",
   "metadata": {},
   "source": [
    "## Converting sentences to indices vector"
   ]
  },
  {
   "cell_type": "code",
   "execution_count": 12,
   "metadata": {
    "collapsed": true
   },
   "outputs": [],
   "source": [
    "def sentences_to_indices(X, word_to_index, max_len):\n",
    "    \"\"\"\n",
    "    Converts an array of sentences (strings) into an array of indices corresponding to words in the sentences.\n",
    "    The output shape should be such that it can be given to `Embedding()`\n",
    "    \n",
    "    Arguments:\n",
    "    X -- array of sentences (strings), of shape (m, 1)\n",
    "    word_to_index -- a dictionary containing the each word mapped to its index\n",
    "    max_len -- maximum number of words in a sentence. One can assume every sentence in X is no longer than this. \n",
    "    \n",
    "    Returns:\n",
    "    X_indices -- array of indices corresponding to words in the sentences from X, of shape (m, max_len)\n",
    "    \"\"\"\n",
    "    \n",
    "    m = X.shape[0]                                   # number of training examples\n",
    "    \n",
    "    # Initialize X_indices as a numpy matrix of zeros and the correct shape\n",
    "    X_indices = np.zeros(shape=(m, max_len))\n",
    "    \n",
    "    for i in range(m):                               \n",
    "        \n",
    "        # Convert the ith training sentence in lower case and split is into words. You should get a list of words.\n",
    "        sentence_words =X[i].lower().strip().split()\n",
    "        \n",
    "        # Initialize j to 0\n",
    "        j = 0\n",
    "        \n",
    "        # Loop over the words of sentence_words\n",
    "        for w in sentence_words:\n",
    "            # Set the (i,j)th entry of X_indices to the index of the correct word.\n",
    "            try:\n",
    "                X_indices[i, j] = word_to_index[w]\n",
    "            except KeyError as e:\n",
    "                X_indices[i, j] = word_to_index[\"unk\"]\n",
    "            # Increment j to j + 1\n",
    "            j = j + 1\n",
    "            if j>=max_len:\n",
    "                break\n",
    "    \n",
    "    return X_indices"
   ]
  },
  {
   "cell_type": "markdown",
   "metadata": {},
   "source": [
    "## Defining pre-training embedding layer"
   ]
  },
  {
   "cell_type": "code",
   "execution_count": 13,
   "metadata": {
    "collapsed": true
   },
   "outputs": [],
   "source": [
    "def pretrained_embedding_layer(word_to_vec_map, word_to_index):\n",
    "    \"\"\"\n",
    "    Creates a Keras Embedding() layer and loads in pre-trained GloVe 50-dimensional vectors.\n",
    "    \n",
    "    Arguments:\n",
    "    word_to_vec_map -- dictionary mapping words to their GloVe vector representation.\n",
    "    word_to_index -- dictionary mapping from words to their indices in the vocabulary (400,001 words)\n",
    "\n",
    "    Returns:\n",
    "    embedding_layer -- pretrained layer Keras instance\n",
    "    \"\"\"\n",
    "    \n",
    "    vocab_len = len(word_to_index) + 1                  # adding 1 to fit Keras embedding (requirement)\n",
    "    emb_dim = word_to_vec_map[\"cucumber\"].shape[0]      \n",
    "    \n",
    "    emb_matrix = np.zeros(shape=(vocab_len, emb_dim))\n",
    "    \n",
    "    for word, index in word_to_index.items():\n",
    "        try:\n",
    "            emb_matrix[index, :] = word_to_vec_map[word]\n",
    "        except Exception as e:\n",
    "            print (\"Exception {0} occured for word {1}\".format(e, word))\n",
    "\n",
    "    embedding_layer = Embedding(vocab_len, emb_dim, trainable=False)\n",
    "    embedding_layer.build((None,))\n",
    "    embedding_layer.set_weights([emb_matrix])\n",
    "    \n",
    "    return embedding_layer"
   ]
  },
  {
   "cell_type": "markdown",
   "metadata": {},
   "source": [
    "## Designing model"
   ]
  },
  {
   "cell_type": "code",
   "execution_count": 14,
   "metadata": {
    "collapsed": true
   },
   "outputs": [],
   "source": [
    "def nation(input_shape, word_to_vec_map, word_to_index):    \n",
    "    sentence_indices = Input(shape=input_shape, dtype='int32')\n",
    "    embedding_layer = pretrained_embedding_layer(word_to_vec_map, word_to_index)\n",
    "    embeddings = embedding_layer(sentence_indices)\n",
    "    \n",
    "    X = LSTM(264)(embeddings)\n",
    "#     X = LSTM(264)(embeddings)\n",
    "   \n",
    "    # Add dropout with a probability of 0.5 to prevent overfitting\n",
    "    X = Dropout(0.5)(X)\n",
    "    \n",
    "    # Propagate X trough another LSTM layer with 128-dimensional hidden state\n",
    "    # Be careful, the returned output should be a single hidden state, not a batch of sequences.\n",
    "#     X = LSTM(264)(X)\n",
    "    \n",
    "#     # Add dropout with a probability of 0.5\n",
    "#     X = Dropout(rate = 0.5)(X)\n",
    "\n",
    "    # Propagate X through a Dense layer with softmax activation to get back a batch of 191-dimensional vectors.\n",
    "    X = Dense(classes, activation='relu')(X)\n",
    "    # Add a softmax activation\n",
    "    X = Activation('softmax')(X)\n",
    "    \n",
    "    # Create Model instance which converts sentence_indices into X.\n",
    "    model = Model(sentence_indices, X)\n",
    "    \n",
    "    \n",
    "    return model"
   ]
  },
  {
   "cell_type": "code",
   "execution_count": 15,
   "metadata": {},
   "outputs": [
    {
     "name": "stdout",
     "output_type": "stream",
     "text": [
      "WARNING:tensorflow:From /home/saurabh/miniconda3/lib/python3.5/site-packages/keras/backend/tensorflow_backend.py:1044: calling reduce_sum (from tensorflow.python.ops.math_ops) with keep_dims is deprecated and will be removed in a future version.\n",
      "Instructions for updating:\n",
      "keep_dims is deprecated, use keepdims instead\n",
      "_________________________________________________________________\n",
      "Layer (type)                 Output Shape              Param #   \n",
      "=================================================================\n",
      "input_1 (InputLayer)         (None, 200)               0         \n",
      "_________________________________________________________________\n",
      "embedding_1 (Embedding)      (None, 200, 50)           20000050  \n",
      "_________________________________________________________________\n",
      "lstm_1 (LSTM)                (None, 264)               332640    \n",
      "_________________________________________________________________\n",
      "dropout_1 (Dropout)          (None, 264)               0         \n",
      "_________________________________________________________________\n",
      "dense_1 (Dense)              (None, 191)               50615     \n",
      "_________________________________________________________________\n",
      "activation_1 (Activation)    (None, 191)               0         \n",
      "=================================================================\n",
      "Total params: 20,383,305.0\n",
      "Trainable params: 383,255.0\n",
      "Non-trainable params: 20,000,050.0\n",
      "_________________________________________________________________\n"
     ]
    }
   ],
   "source": [
    "maxLen = 200 # Determined from the EDA notebook\n",
    "model = nation((maxLen,), word_to_vec_map, words_to_index)\n",
    "model.summary()"
   ]
  },
  {
   "cell_type": "code",
   "execution_count": 16,
   "metadata": {},
   "outputs": [
    {
     "name": "stdout",
     "output_type": "stream",
     "text": [
      "WARNING:tensorflow:From /home/saurabh/miniconda3/lib/python3.5/site-packages/keras/backend/tensorflow_backend.py:1123: calling reduce_mean (from tensorflow.python.ops.math_ops) with keep_dims is deprecated and will be removed in a future version.\n",
      "Instructions for updating:\n",
      "keep_dims is deprecated, use keepdims instead\n"
     ]
    }
   ],
   "source": [
    "## Compiling the model\n",
    "model.compile(loss='categorical_crossentropy', optimizer='adam', metrics=['accuracy'])"
   ]
  },
  {
   "cell_type": "code",
   "execution_count": 17,
   "metadata": {
    "collapsed": true
   },
   "outputs": [],
   "source": [
    "X_train_indices = sentences_to_indices(X_train, words_to_index, maxLen)"
   ]
  },
  {
   "cell_type": "markdown",
   "metadata": {},
   "source": [
    "## Fitting the model"
   ]
  },
  {
   "cell_type": "code",
   "execution_count": 182,
   "metadata": {},
   "outputs": [
    {
     "name": "stdout",
     "output_type": "stream",
     "text": [
      "Train on 377696 samples, validate on 94424 samples\n",
      "Epoch 1/1\n",
      "377696/377696 [==============================] - 8040s - loss: 2.4297 - acc: 0.4028 - val_loss: 2.2747 - val_acc: 0.4159\n"
     ]
    },
    {
     "data": {
      "text/plain": [
       "<keras.callbacks.History at 0x7ff4d8e6f630>"
      ]
     },
     "execution_count": 182,
     "metadata": {},
     "output_type": "execute_result"
    }
   ],
   "source": [
    "model.fit(X_train_indices, Y_OneHot_Train, epochs = 1, batch_size = 50, shuffle=True, validation_split=0.2)"
   ]
  },
  {
   "cell_type": "code",
   "execution_count": 30,
   "metadata": {
    "collapsed": true
   },
   "outputs": [],
   "source": [
    "model.save(\"./NationalityVsText_v2.hdf5\")"
   ]
  },
  {
   "cell_type": "markdown",
   "metadata": {},
   "source": [
    "## Running model using K-fold cross validation\n",
    "\n",
    "* Below code is commented. \n",
    "* Uncomment and run the below cell to train the model using 10-fold cross validation\n",
    "* I did not do this, because it was taking too much time - 2 hrs for 1 epoch on 1 validation data\n",
    "* Feel free to change number of epochs"
   ]
  },
  {
   "cell_type": "code",
   "execution_count": 29,
   "metadata": {},
   "outputs": [
    {
     "name": "stderr",
     "output_type": "stream",
     "text": [
      "/home/saurabh/miniconda3/lib/python3.5/site-packages/sklearn/model_selection/_split.py:605: Warning: The least populated class in y has only 1 members, which is too few. The minimum number of members in any class cannot be less than n_splits=5.\n",
      "  % (min_groups, self.n_splits)), Warning)\n"
     ]
    },
    {
     "name": "stdout",
     "output_type": "stream",
     "text": [
      "Epoch 1/2\n",
      "35982/35982 [==============================] - 742s - loss: 2.5593 - acc: 0.3925   \n",
      "Epoch 2/2\n",
      "35982/35982 [==============================] - 702s - loss: 2.4763 - acc: 0.3996   \n",
      "<keras.callbacks.History object at 0x7fd82b1212b0>\n",
      "9018/9018 [==============================] - 57s    \n",
      "acc: 39.88%\n",
      "Epoch 1/2\n",
      "35983/35983 [==============================] - 771s - loss: 2.6136 - acc: 0.3944   \n",
      "Epoch 2/2\n",
      "35983/35983 [==============================] - 706s - loss: 2.5287 - acc: 0.3996   \n",
      "<keras.callbacks.History object at 0x7fd812a64828>\n",
      "9017/9017 [==============================] - 57s    \n",
      "acc: 39.88%\n",
      "Epoch 1/2\n",
      "35988/35988 [==============================] - 690s - loss: 2.5914 - acc: 0.3930   \n",
      "Epoch 2/2\n",
      "35988/35988 [==============================] - 692s - loss: 2.4757 - acc: 0.3995   \n",
      "<keras.callbacks.History object at 0x7fd812fe3ac8>\n",
      "9012/9012 [==============================] - 57s    \n",
      "acc: 39.89%\n",
      "Epoch 1/2\n",
      "35996/35996 [==============================] - 960s - loss: 2.5645 - acc: 0.3924   \n",
      "Epoch 2/2\n",
      "35996/35996 [==============================] - 764s - loss: 2.4602 - acc: 0.3995   \n",
      "<keras.callbacks.History object at 0x7fd8130ff1d0>\n",
      "9004/9004 [==============================] - 57s    \n",
      "acc: 39.93%\n",
      "Epoch 1/2\n",
      "36051/36051 [==============================] - 690s - loss: 2.6554 - acc: 0.3929   \n",
      "Epoch 2/2\n",
      "36051/36051 [==============================] - 798s - loss: 2.5711 - acc: 0.3989   \n",
      "<keras.callbacks.History object at 0x7fd8040637f0>\n",
      "8949/8949 [==============================] - 67s    \n",
      "acc: 40.17%\n",
      "Final k-fold result : 39.95% (+/- 0.11%)\n"
     ]
    }
   ],
   "source": [
    "seed = 8\n",
    "kfold = StratifiedKFold(n_splits=5, shuffle=True, random_state=seed)\n",
    "cvscores = []\n",
    "for train, test in kfold.split(X_train, Y_train):\n",
    "    # Fit the model\n",
    "    X_train_indices = sentences_to_indices(X_train[train], words_to_index, maxLen)\n",
    "    Y_OneHot_Train = pd.get_dummies(Y_train[train]).values\n",
    "    \n",
    "    model = nation((maxLen,), word_to_vec_map, words_to_index)\n",
    "    model.compile(loss='categorical_crossentropy', optimizer='adam', metrics=['accuracy'])\n",
    "    print (model.fit(X_train_indices, Y_OneHot_Train, epochs=2, batch_size=50, verbose=1))\n",
    "    \n",
    "    # evaluate the model\n",
    "    X_test_indices = sentences_to_indices(X_train[test], words_to_index, maxLen)\n",
    "    pred = model.predict(X_test_indices, verbose=1)\n",
    "    Y_test_pred = np.argmax(pred, axis=1)\n",
    "    Y_test_map = {}\n",
    "    for index, country in enumerate(Y_train[train].categories.values):\n",
    "        Y_test_map[country] = index\n",
    "    Y_test_actual= []\n",
    "    for value in Y_train[test]:\n",
    "        Y_test_actual.append(Y_test_map.get(value))\n",
    "        \n",
    "    scores= np.mean(np.equal(Y_test_actual, Y_test_pred))\n",
    "    print(\"acc: %.2f%%\" % (100*scores))\n",
    "    cvscores.append(scores * 100)\n",
    "print(\"Final k-fold result : %.2f%% (+/- %.2f%%)\" % (np.mean(cvscores), np.std(cvscores)))"
   ]
  },
  {
   "cell_type": "markdown",
   "metadata": {},
   "source": [
    "## Testing the model\n",
    "\n",
    "Below are some of the metrics on testing data"
   ]
  },
  {
   "cell_type": "code",
   "execution_count": 32,
   "metadata": {
    "collapsed": true
   },
   "outputs": [],
   "source": [
    "X_test_indices = sentences_to_indices(X_test, words_to_index, max_len = maxLen)"
   ]
  },
  {
   "cell_type": "code",
   "execution_count": 33,
   "metadata": {},
   "outputs": [
    {
     "name": "stdout",
     "output_type": "stream",
     "text": [
      "94424/94424 [==============================] - 667s   \n"
     ]
    }
   ],
   "source": [
    "pred = model.predict(X_test_indices, verbose=1)   "
   ]
  },
  {
   "cell_type": "code",
   "execution_count": 34,
   "metadata": {
    "collapsed": true
   },
   "outputs": [],
   "source": [
    "pred\n",
    "Y_test_pred = np.argmax(pred, axis=1)\n",
    "\n",
    "Y_test_map = {}\n",
    "for index, country in enumerate(Y_train.categories.values):\n",
    "    Y_test_map[country] = index\n",
    "    \n",
    "def getYTestActual(Y_test_map, Y_test):\n",
    "    Y_test_actual= []\n",
    "    for value in Y_test:\n",
    "        Y_test_actual.append(Y_test_map.get(value))\n",
    "    return Y_test_actual\n",
    "\n",
    "Y_test_actual = getYTestActual(Y_test_map, Y_test)"
   ]
  },
  {
   "cell_type": "code",
   "execution_count": 239,
   "metadata": {
    "collapsed": true
   },
   "outputs": [],
   "source": [
    "# print (\"Below is the confusion matrix for model1: \")\n",
    "# confusion_matrix(Y_test_actual, Y_test_pred)"
   ]
  },
  {
   "cell_type": "code",
   "execution_count": 35,
   "metadata": {},
   "outputs": [
    {
     "name": "stdout",
     "output_type": "stream",
     "text": [
      "Testing set accuracy : 40.34249767008388%\n"
     ]
    }
   ],
   "source": [
    "len(Y_test_actual), len(Y_test_pred)\n",
    "print (\"Testing set accuracy : {0}%\".format(100*np.mean(np.equal(Y_test_actual, Y_test_pred))))"
   ]
  },
  {
   "cell_type": "markdown",
   "metadata": {},
   "source": [
    "## Testing the model on any validation data set\n",
    "\n",
    "* I have created 25 files of approx. 18MB size each. 1-10 are used for training and 11-12 are used for validation\n",
    "* Provide any File Part number (except 1 - 12, 1-10 is used for training and 11-12 are already used for validation) from 13-25"
   ]
  },
  {
   "cell_type": "code",
   "execution_count": 36,
   "metadata": {
    "collapsed": true
   },
   "outputs": [],
   "source": [
    "## Provide any part number for validation\n",
    "part_no = 22 # user choice\n",
    "validation_df = pd.read_csv(\"./Part\"+str(part_no)+\".csv\")\n",
    "X_validation_indices = sentences_to_indices(validation_df['text'].values, words_to_index, max_len = maxLen)\n",
    "Y_validation_actual = getYTestActual(Y_test_map, validation_df['nationality'].values)"
   ]
  },
  {
   "cell_type": "code",
   "execution_count": 38,
   "metadata": {},
   "outputs": [
    {
     "name": "stdout",
     "output_type": "stream",
     "text": [
      "Loading model from disk ...\n",
      "model loaded\n",
      "_________________________________________________________________\n",
      "Layer (type)                 Output Shape              Param #   \n",
      "=================================================================\n",
      "input_6 (InputLayer)         (None, 200)               0         \n",
      "_________________________________________________________________\n",
      "embedding_6 (Embedding)      (None, 200, 50)           20000050  \n",
      "_________________________________________________________________\n",
      "lstm_6 (LSTM)                (None, 264)               332640    \n",
      "_________________________________________________________________\n",
      "dropout_6 (Dropout)          (None, 264)               0         \n",
      "_________________________________________________________________\n",
      "dense_6 (Dense)              (None, 191)               50615     \n",
      "_________________________________________________________________\n",
      "activation_6 (Activation)    (None, 191)               0         \n",
      "=================================================================\n",
      "Total params: 20,383,305.0\n",
      "Trainable params: 383,255.0\n",
      "Non-trainable params: 20,000,050.0\n",
      "_________________________________________________________________\n",
      "None\n",
      "47212/47212 [==============================] - 324s   \n",
      "Validation set accuracy : 40.07243921037025%\n"
     ]
    }
   ],
   "source": [
    "print (\"Loading model from disk ...\")\n",
    "model = load_model(\"./NationalityVsText_v2.hdf5\")\n",
    "print (\"model loaded\")\n",
    "print (model.summary())\n",
    "pred = model.predict(X_validation_indices, verbose=1) \n",
    "Y_validation_pred = np.argmax(pred, axis=1)\n",
    "print (\"Validation set accuracy : {0}%\".format(100*np.mean(np.equal(Y_validation_actual, Y_validation_pred))))"
   ]
  },
  {
   "cell_type": "code",
   "execution_count": null,
   "metadata": {
    "collapsed": true
   },
   "outputs": [],
   "source": []
  }
 ],
 "metadata": {
  "kernelspec": {
   "display_name": "Python 3",
   "language": "python",
   "name": "python3"
  },
  "language_info": {
   "codemirror_mode": {
    "name": "ipython",
    "version": 3
   },
   "file_extension": ".py",
   "mimetype": "text/x-python",
   "name": "python",
   "nbconvert_exporter": "python",
   "pygments_lexer": "ipython3",
   "version": "3.5.3"
  }
 },
 "nbformat": 4,
 "nbformat_minor": 2
}
